{
  "cells": [
    {
      "cell_type": "code",
      "execution_count": 48,
      "metadata": {
        "id": "VpdJvPXK2_xh"
      },
      "outputs": [],
      "source": [
        "#Linear forecasting model by estimating the autoregressive (AR(p)) regression coefficients of timeseries"
      ]
    },
    {
      "cell_type": "code",
      "execution_count": 49,
      "metadata": {},
      "outputs": [],
      "source": [
        "import numpy as np\n",
        "import matplotlib.pyplot as plt\n",
        "import pandas as pd"
      ]
    },
    {
      "cell_type": "code",
      "execution_count": 50,
      "metadata": {
        "id": "mPotaH052_xk"
      },
      "outputs": [],
      "source": [
        "eps = 0.15 #pacf acceptance threshold is considered to be non-zero"
      ]
    },
    {
      "cell_type": "code",
      "execution_count": 51,
      "metadata": {
        "id": "sylJuyw72_xl"
      },
      "outputs": [],
      "source": [
        "#Calculate sample autocovariance function (ACVF)\n",
        "def Gamma_hat(h, x):\n",
        "    x = np.array(x)\n",
        "    h = int(np.abs(h))\n",
        "    x_bar = np.mean(x)\n",
        "    gamma_hat = 0\n",
        "    for t in range(len(x)-h):\n",
        "        gamma_hat += (x[t+h] - x_bar)*(x[t] - x_bar)\n",
        "    return gamma_hat/len(x)"
      ]
    },
    {
      "cell_type": "code",
      "execution_count": 52,
      "metadata": {
        "id": "ZEH1Ojpy2_xl"
      },
      "outputs": [],
      "source": [
        "#Calculate vector sample autocovariance function (ACVF)\n",
        "def Gamma_hat_vector(h, x):\n",
        "    h = np.abs(h)\n",
        "    gamma_vector = np.zeros(h)\n",
        "    for i in range(h):\n",
        "        gamma_vector[i] = Gamma_hat(i+1, x)\n",
        "    return np.array(gamma_vector)"
      ]
    },
    {
      "cell_type": "code",
      "execution_count": 53,
      "metadata": {
        "id": "wS6UsHt42_xm"
      },
      "outputs": [],
      "source": [
        "#Calculate matrix covariance\n",
        "def Cov_matrix(n, x):\n",
        "    n = np.abs(n)\n",
        "    cov_matrix = np.zeros((n, n))\n",
        "    for i in range(n):\n",
        "        for j in range(n):\n",
        "            cov_matrix[i, j] = Gamma_hat(i-j, x)\n",
        "    return np.array(cov_matrix)\n"
      ]
    },
    {
      "cell_type": "code",
      "execution_count": 54,
      "metadata": {
        "id": "v780ZiFI2_xm"
      },
      "outputs": [],
      "source": [
        "#Calculate the value of partial autocorrelation function (PACF)\n",
        "def PACF(h, x, Cov_hat):\n",
        "    h = np.abs(h)\n",
        "    if h == 0:\n",
        "        return 1\n",
        "    else:\n",
        "        PHI = np.linalg.inv(Cov_hat[0:h, 0:h]) @ np.hstack([Cov_hat[0, 1:h], Gamma_hat(h, x)]).T\n",
        "        return PHI[h-1]"
      ]
    },
    {
      "cell_type": "code",
      "execution_count": null,
      "metadata": {},
      "outputs": [],
      "source": [
        "#Calculate and plot vector partial autocorrelation function (PACF)\n",
        "def comp_and_draw_PACF(X, eps, Cov_hat):\n",
        "    pacf = []\n",
        "    n = len(X)\n",
        "    for h in range(0, n+1):\n",
        "        pacf.append(PACF(h, X, Cov_hat))\n",
        "\n",
        "    plt.ylim(-1,1)\n",
        "    plt.plot(pacf, 'g-')\n",
        "    plt.plot(np.zeros(n), 'b')\n",
        "    plt.plot([eps for i in range(n)], 'y')\n",
        "    plt.plot([-eps for i in range(n)], 'y')\n",
        "    plt.title('PACF')\n",
        "    plt.grid(True)\n",
        "    plt.show()\n",
        "    return np.array(pacf)"
      ]
    },
    {
      "cell_type": "code",
      "execution_count": 55,
      "metadata": {
        "colab": {
          "base_uri": "https://localhost:8080/",
          "height": 424
        },
        "id": "tKstu8SV2_xn",
        "outputId": "c2486a36-46ee-449a-df0e-26fe8d372d4b"
      },
      "outputs": [
        {
          "data": {
            "text/html": [
              "<div>\n",
              "<style scoped>\n",
              "    .dataframe tbody tr th:only-of-type {\n",
              "        vertical-align: middle;\n",
              "    }\n",
              "\n",
              "    .dataframe tbody tr th {\n",
              "        vertical-align: top;\n",
              "    }\n",
              "\n",
              "    .dataframe thead th {\n",
              "        text-align: right;\n",
              "    }\n",
              "</style>\n",
              "<table border=\"1\" class=\"dataframe\">\n",
              "  <thead>\n",
              "    <tr style=\"text-align: right;\">\n",
              "      <th></th>\n",
              "      <th>time</th>\n",
              "      <th>price</th>\n",
              "    </tr>\n",
              "  </thead>\n",
              "  <tbody>\n",
              "    <tr>\n",
              "      <th>0</th>\n",
              "      <td>1/12/2022</td>\n",
              "      <td>2377.00</td>\n",
              "    </tr>\n",
              "    <tr>\n",
              "      <th>1</th>\n",
              "      <td>1/11/2022</td>\n",
              "      <td>2227.00</td>\n",
              "    </tr>\n",
              "    <tr>\n",
              "      <th>2</th>\n",
              "      <td>1/10/2022</td>\n",
              "      <td>2155.50</td>\n",
              "    </tr>\n",
              "    <tr>\n",
              "      <th>3</th>\n",
              "      <td>1/9/2022</td>\n",
              "      <td>2363.00</td>\n",
              "    </tr>\n",
              "    <tr>\n",
              "      <th>4</th>\n",
              "      <td>1/8/2022</td>\n",
              "      <td>2497.00</td>\n",
              "    </tr>\n",
              "    <tr>\n",
              "      <th>...</th>\n",
              "      <td>...</td>\n",
              "      <td>...</td>\n",
              "    </tr>\n",
              "    <tr>\n",
              "      <th>174</th>\n",
              "      <td>1/4/2008</td>\n",
              "      <td>2959.27</td>\n",
              "    </tr>\n",
              "    <tr>\n",
              "      <th>175</th>\n",
              "      <td>1/3/2008</td>\n",
              "      <td>3005.29</td>\n",
              "    </tr>\n",
              "    <tr>\n",
              "      <th>176</th>\n",
              "      <td>1/2/2008</td>\n",
              "      <td>2776.93</td>\n",
              "    </tr>\n",
              "    <tr>\n",
              "      <th>177</th>\n",
              "      <td>1/1/2008</td>\n",
              "      <td>2445.52</td>\n",
              "    </tr>\n",
              "    <tr>\n",
              "      <th>178</th>\n",
              "      <td>1/12/2007</td>\n",
              "      <td>2381.69</td>\n",
              "    </tr>\n",
              "  </tbody>\n",
              "</table>\n",
              "<p>179 rows × 2 columns</p>\n",
              "</div>"
            ],
            "text/plain": [
              "          time    price\n",
              "0    1/12/2022  2377.00\n",
              "1    1/11/2022  2227.00\n",
              "2    1/10/2022  2155.50\n",
              "3     1/9/2022  2363.00\n",
              "4     1/8/2022  2497.00\n",
              "..         ...      ...\n",
              "174   1/4/2008  2959.27\n",
              "175   1/3/2008  3005.29\n",
              "176   1/2/2008  2776.93\n",
              "177   1/1/2008  2445.52\n",
              "178  1/12/2007  2381.69\n",
              "\n",
              "[179 rows x 2 columns]"
            ]
          },
          "execution_count": 55,
          "metadata": {},
          "output_type": "execute_result"
        }
      ],
      "source": [
        "data = pd.read_csv(\"data.csv\")\n",
        "data"
      ]
    },
    {
      "cell_type": "code",
      "execution_count": 70,
      "metadata": {
        "id": "pI3cn8zn2_xp"
      },
      "outputs": [
        {
          "data": {
            "image/png": "[encoded data removed]",
            "text/plain": [
              "<Figure size 640x480 with 1 Axes>"
            ]
          },
          "metadata": {},
          "output_type": "display_data"
        }
      ],
      "source": [
        "data_X = np.array(data[\"price\"])\n",
        "plt.plot(data_X)\n",
        "plt.show()"
      ]
    },
    {
      "cell_type": "code",
      "execution_count": 67,
      "metadata": {
        "id": "wBowMriD838m"
      },
      "outputs": [
        {
          "data": {
            "text/plain": [
              "array([ 331.13962417,  181.13962417,  109.63962417,  317.13962417,\n",
              "        451.13962417,  430.13962417,  746.13962417, 1005.13962417,\n",
              "       1421.13962417, 1408.13962417,  988.13962417,  750.13962417,\n",
              "        574.88962417,  689.38962417,  808.88962417,  661.13962417,\n",
              "        551.88962417,  476.88962417,  460.63962417,  366.13962417,\n",
              "        169.63962417,  112.63962417,  -69.86037583,  -66.11037583,\n",
              "         -6.61037583, -198.36037583, -244.61037583, -426.86037583,\n",
              "       -498.61037583, -557.86037583, -520.61037583, -346.61037583,\n",
              "       -320.11037583, -236.61037583, -286.11037583, -292.36037583,\n",
              "       -295.86037583, -289.86037583, -245.61037583, -252.36037583,\n",
              "       -250.86037583, -236.36037583, -133.86037583, -137.11037583,\n",
              "       -134.86037583, -211.11037583,  -92.86037583,  -89.61037583,\n",
              "          7.13962417,   73.88962417,   36.63962417,   85.88962417,\n",
              "        245.63962417,  203.38962417,  -41.11037583,  130.5668969 ,\n",
              "        172.63962417,  229.63962417,    2.63962417,  117.13962417,\n",
              "         85.62962417,   41.63962417,  -15.85037583, -142.90037583,\n",
              "       -160.57037583, -132.84037583, -124.64037583, -144.39037583,\n",
              "       -185.11037583, -254.62037583, -318.12037583, -308.75037583,\n",
              "       -383.36037583, -453.50037583, -406.58037583, -416.81037583,\n",
              "       -452.35037583, -495.23037583, -474.63037583, -514.85037583,\n",
              "       -514.60037583, -564.76037583, -548.66037583, -577.97037583,\n",
              "       -529.37037583, -456.26037583, -497.73037583, -406.36037583,\n",
              "       -358.13037583, -241.82037583, -226.67037583, -272.00037583,\n",
              "       -228.04037583, -231.14037583, -136.40037583,    9.68962417,\n",
              "        -99.67037583,  -55.43037583,  -15.37037583,  -97.56037583,\n",
              "       -206.91037583, -294.81037583, -235.19037583, -340.49037583,\n",
              "       -350.69037583, -318.45037583, -306.05037583, -297.90037583,\n",
              "       -231.28037583, -284.56037583, -228.24037583, -276.25037583,\n",
              "       -231.32037583, -213.84037583, -184.19037583, -136.29037583,\n",
              "          7.73962417,   -8.11037583,   40.89962417,  -97.03037583,\n",
              "        -71.56037583,   18.25962417, -200.48037583, -169.61037583,\n",
              "       -155.68037583,  -38.23037583,    3.80962417,  138.29962417,\n",
              "        162.05962417,   98.33962417,  -23.61037583,   34.11962417,\n",
              "        134.78962417,  247.59962417,  333.48962417,  479.56962417,\n",
              "        511.89962417,  550.58962417,  632.24962417,  509.63962417,\n",
              "        462.31962417,  393.66962417,  304.80962417,  287.20962417,\n",
              "        300.70962417,  116.47962417,   72.27962417,  -57.59037583,\n",
              "       -114.47037583,   -5.33037583,  270.86962417,  159.76962417,\n",
              "          3.06962417,  189.28962417,  134.23962417,  -96.57037583,\n",
              "       -167.29037583, -211.75037583, -112.11037583, -377.90037583,\n",
              "       -472.13037583, -585.41037583, -625.01037583, -710.02037583,\n",
              "       -715.66037583, -632.74037583, -555.43037583, -193.43037583,\n",
              "         75.54962417,  479.95962417,  718.51962417, 1025.37962417,\n",
              "        911.99962417,  857.03962417,  913.40962417,  959.42962417,\n",
              "        731.06962417,  399.65962417,  335.82962417])"
            ]
          },
          "execution_count": 67,
          "metadata": {},
          "output_type": "execute_result"
        }
      ],
      "source": [
        "#Replace all values equal to 0 with the mean value of the data up to that point\n",
        "#Alternatively, use the data before the point = 0 to predict one step for the missing data point.\n",
        "for i in range(len(data_X)):\n",
        "  if data_X[i] <= 0:\n",
        "    data_X[i] = np.mean(data_X[:i])\n",
        "#Calculate the average filter of the data.\n",
        "data_X_mean = np.mean(data_X)\n",
        "X = data_X - data_X_mean"
      ]
    },
    {
      "cell_type": "code",
      "execution_count": 59,
      "metadata": {
        "colab": {
          "base_uri": "https://localhost:8080/"
        },
        "id": "21CWcieU2_xq",
        "outputId": "097d0c7b-8d17-4ace-8c8d-0ed5fa560e03"
      },
      "outputs": [
        {
          "data": {
            "text/plain": [
              "array([[168495.80197029, 160155.91380347, 146902.27193646, ...,\n",
              "          1962.57289663,   1079.19100367,    621.26533819],\n",
              "       [160155.91380347, 168495.80197029, 160155.91380347, ...,\n",
              "          3354.49303871,   1962.57289663,   1079.19100367],\n",
              "       [146902.27193646, 160155.91380347, 168495.80197029, ...,\n",
              "          4662.93292457,   3354.49303871,   1962.57289663],\n",
              "       ...,\n",
              "       [  1962.57289663,   3354.49303871,   4662.93292457, ...,\n",
              "        168495.80197029, 160155.91380347, 146902.27193646],\n",
              "       [  1079.19100367,   1962.57289663,   3354.49303871, ...,\n",
              "        160155.91380347, 168495.80197029, 160155.91380347],\n",
              "       [   621.26533819,   1079.19100367,   1962.57289663, ...,\n",
              "        146902.27193646, 160155.91380347, 168495.80197029]])"
            ]
          },
          "execution_count": 59,
          "metadata": {},
          "output_type": "execute_result"
        }
      ],
      "source": [
        "Cov_matrix_hat = Cov_matrix(len(X), X)\n",
        "Cov_matrix_hat"
      ]
    },
    {
      "cell_type": "code",
      "execution_count": 60,
      "metadata": {
        "colab": {
          "base_uri": "https://localhost:8080/",
          "height": 1000
        },
        "id": "z0MfS6G22_xr",
        "outputId": "2ae17225-82b8-4a32-8b66-339ab1296f33"
      },
      "outputs": [
        {
          "data": {
            "image/png": "[encoded data removed]",
            "text/plain": [
              "<Figure size 640x480 with 1 Axes>"
            ]
          },
          "metadata": {},
          "output_type": "display_data"
        }
      ],
      "source": [
        "pacf = comp_and_draw_PACF(X, eps, Cov_matrix_hat)"
      ]
    },
    {
      "cell_type": "code",
      "execution_count": 61,
      "metadata": {
        "colab": {
          "base_uri": "https://localhost:8080/"
        },
        "id": "NZVUNpZ_2_xs",
        "outputId": "aa82524f-87c4-42fb-fbc7-afc5b3ae6f89"
      },
      "outputs": [
        {
          "data": {
            "text/plain": [
              "2"
            ]
          },
          "execution_count": 61,
          "metadata": {},
          "output_type": "execute_result"
        }
      ],
      "source": [
        "max_i = 0\n",
        "for i in range(len(pacf)):\n",
        "    if np.abs(pacf[i]) >= eps:\n",
        "        max_i = i\n",
        "\n",
        "max_i"
      ]
    },
    {
      "cell_type": "code",
      "execution_count": 62,
      "metadata": {
        "id": "6moGUw6l2_xs"
      },
      "outputs": [],
      "source": [
        "#Model parameter estimation function\n",
        "def Predict_Phi(m, x, Cov):\n",
        "    Cov = np.fliplr(Cov)\n",
        "    Gamma_right = Gamma_hat_vector(len(x) + m, x)\n",
        "    Phi = np.linalg.inv(Cov) @ np.flip(Gamma_right[m:m+max_i]).T\n",
        "    return np.array(Phi)"
      ]
    },
    {
      "cell_type": "code",
      "execution_count": 63,
      "metadata": {
        "colab": {
          "base_uri": "https://localhost:8080/"
        },
        "id": "1qBQbRzt2_xt",
        "outputId": "b12ecd48-b1dc-41e6-a975-a63bada71f93"
      },
      "outputs": [],
      "source": [
        "predict = []\n",
        "for i in range(12):\n",
        "  predict.append(Predict_Phi(7*12+i+1, X, Cov_matrix_hat[0:max_i, 0:max_i]))"
      ]
    },
    {
      "cell_type": "code",
      "execution_count": 64,
      "metadata": {
        "id": "DIReDtSj8Myb"
      },
      "outputs": [],
      "source": [
        "#Price prediction\n",
        "X_predict = []\n",
        "for i in range(12):\n",
        "  X_predict.append(predict[i] @ np.flip(X[-max_i:]).T)\n",
        "\n",
        "X_predict += data_X_mean\n"
      ]
    },
    {
      "cell_type": "code",
      "execution_count": 65,
      "metadata": {
        "id": "NhCnozPzC9tG"
      },
      "outputs": [],
      "source": [
        "List_Predict = {}"
      ]
    },
    {
      "cell_type": "code",
      "execution_count": 66,
      "metadata": {
        "colab": {
          "base_uri": "https://localhost:8080/"
        },
        "id": "J62IWmzl9vsJ",
        "outputId": "8ac19715-e958-41a3-b3dc-6a1edb88f452"
      },
      "outputs": [
        {
          "data": {
            "text/plain": [
              "{'Month 1 year 2030': '2007.2025372984801 $',\n",
              " 'Month 2 year 2030': '1998.9715508414108 $',\n",
              " 'Month 3 year 2030': '1993.611791098238 $',\n",
              " 'Month 4 year 2030': '1984.0506787644094 $',\n",
              " 'Month 5 year 2030': '1978.4979739958744 $',\n",
              " 'Month 6 year 2030': '1971.450883503687 $',\n",
              " 'Month 7 year 2030': '1968.0814670699965 $',\n",
              " 'Month 8 year 2030': '1965.144826000183 $',\n",
              " 'Month 9 year 2030': '1958.8665738595896 $',\n",
              " 'Month 10 year 2030': '1956.2499015782748 $',\n",
              " 'Month 11 year 2030': '1958.9864951126476 $',\n",
              " 'Month 12 year 2030': '1958.5543261638788 $'}"
            ]
          },
          "execution_count": 66,
          "metadata": {},
          "output_type": "execute_result"
        }
      ],
      "source": [
        "for i in range(12):\n",
        "  List_Predict[\"Month \" + str( i+1) + \" year 2030\"] = str(X_predict[i]) + \" $\"\n",
        "\n",
        "List_Predict"
      ]
    }
  ],
  "metadata": {
    "colab": {
      "provenance": []
    },
    "kernelspec": {
      "display_name": "Python 3",
      "language": "python",
      "name": "python3"
    },
    "language_info": {
      "codemirror_mode": {
        "name": "ipython",
        "version": 3
      },
      "file_extension": ".py",
      "mimetype": "text/x-python",
      "name": "python",
      "nbconvert_exporter": "python",
      "pygments_lexer": "ipython3",
      "version": "3.10.10"
    },
    "orig_nbformat": 4,
    "vscode": {
      "interpreter": {
        "hash": "7c7fc313f37d99979b011a4393bdf31f620417b5a672ee32f19bc1a847dd3b75"
      }
    }
  },
  "nbformat": 4,
  "nbformat_minor": 0
}
