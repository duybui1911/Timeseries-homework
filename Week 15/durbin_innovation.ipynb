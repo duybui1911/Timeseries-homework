{
 "cells": [
  {
   "cell_type": "code",
   "execution_count": 1,
   "metadata": {},
   "outputs": [],
   "source": [
    "from statsmodels.tsa.stattools import innovations_algo\n",
    "from statsmodels.tsa.arima_process import arma_acf, arma_acovf\n",
    "import numpy as np\n",
    "import warnings\n",
    "warnings.filterwarnings('ignore')\n",
    "import matplotlib.pyplot as plt\n",
    "\n",
    "from statsmodels.tools.validation import (\n",
    "    array_like,\n",
    "    bool_like,\n",
    "    int_like,\n",
    ")"
   ]
  },
  {
   "cell_type": "code",
   "execution_count": null,
   "metadata": {},
   "outputs": [],
   "source": [
    "def levinson_durbin(s, nlags=10, isacov=False):\n",
    "    s = array_like(s, \"s\")\n",
    "    nlags = int_like(nlags, \"nlags\")\n",
    "    isacov = bool_like(isacov, \"isacov\")\n",
    "    order = nlags\n",
    "\n",
    "    if isacov:\n",
    "        sxx_m = s\n",
    "\n",
    "    phi = np.zeros((order + 1, order + 1), \"d\")\n",
    "    sig = np.zeros(order + 1)\n",
    "    # initial points for the recursion\n",
    "    phi[1, 1] = sxx_m[1] / sxx_m[0]\n",
    "    sig[1] = sxx_m[0] - phi[1, 1] * sxx_m[1]\n",
    "    for k in range(2, order + 1):\n",
    "        phi[k, k] = (\n",
    "            sxx_m[k] - np.dot(phi[1:k, k - 1], sxx_m[1:k][::-1])\n",
    "        ) / sig[k - 1]\n",
    "        for j in range(1, k):\n",
    "            phi[j, k] = phi[j, k - 1] - phi[k, k] * phi[k - j, k - 1]\n",
    "        sig[k] = sig[k - 1] * (1 - phi[k, k] ** 2)\n",
    "\n",
    "    sigma_v = sig[-1]\n",
    "    arcoefs = phi[1:, -1]\n",
    "    pacf_ = np.diag(phi).copy()\n",
    "    pacf_[0] = 1.0\n",
    "    return arcoefs, sigma_v"
   ]
  },
  {
   "cell_type": "code",
   "execution_count": 8,
   "metadata": {},
   "outputs": [
    {
     "name": "stdout",
     "output_type": "stream",
     "text": [
      "ACVF \n",
      " [0.03784002, -0.0076134900000000005, 0.003971]\n",
      "ACF \n",
      " [1.0, -0.2012020606754436, 0.10494180499904598, 0.0]\n"
     ]
    },
    {
     "data": {
      "text/plain": [
       "[1, -0.19, 0.11]"
      ]
     },
     "execution_count": 8,
     "metadata": {},
     "output_type": "execute_result"
    }
   ],
   "source": [
    "#Ex: X_t - 0.4X_(t-1) + 0.7X_(t-2) = Z_t + 0.3Z_(t-1) - 0.4Z_(t-2)\n",
    "#ar_coff = [1, 0.4, -0.7]\n",
    "#ma_coff = [1, 0.3, -0.4]\n",
    "\n",
    "alpha = 19\n",
    "beta = 11\n",
    "ar_coff = [1, 0]\n",
    "ma_coff = [1, -0.19, 0.11]\n",
    "sigma2 = (alpha/100)**2\n",
    "\n",
    "lags = len(ma_coff)\n",
    "acvf = np.ndarray.tolist(arma_acovf(ar_coff,ma_coff,lags,dtype=float,sigma2=sigma2))\n",
    "acf = np.ndarray.tolist(arma_acf(ar_coff,ma_coff,lags+1))\n",
    "print(\"ACVF \\n\",acvf)\n",
    "print(\"ACF \\n\",acf)\n",
    "ma_coff"
   ]
  },
  {
   "cell_type": "code",
   "execution_count": 7,
   "metadata": {},
   "outputs": [
    {
     "name": "stdout",
     "output_type": "stream",
     "text": [
      "acvf:  [0.042207722899999994, -0.015289432999999998, 0.0011913]\n",
      "(array([-0.36224255]), 0.03666923976468996)\n",
      "(array([-0.40518684, -0.11855122]), 0.036153875897503344)\n",
      "(array([-0.40954762, -0.13345559, -0.03678394]), 0.03610495760811314)\n",
      "(array([-0.40995863, -0.13494676, -0.04136003, -0.01117353]), 0.036100449983276946)\n",
      "(array([-0.40999625, -0.13508603, -0.04181445, -0.01255403, -0.0033674 ]), 0.03610004062575246)\n"
     ]
    }
   ],
   "source": [
    "#durbin - levinson\n",
    "print(\"acvf: \", acvf)\n",
    "for i in range(1,6):\n",
    "    if i < len(acvf):\n",
    "        print(levinson_durbin(acvf[:i+1], nlags= len(acvf[:i+1]) - 1, isacov=True))\n",
    "    else:\n",
    "        acvf.append(0)\n",
    "        print(levinson_durbin(acvf, nlags= len(acvf) - 1, isacov=True))"
   ]
  },
  {
   "cell_type": "code",
   "execution_count": 9,
   "metadata": {},
   "outputs": [
    {
     "name": "stdout",
     "output_type": "stream",
     "text": [
      "acvf:  [0.03784002, -0.0076134900000000005, 0.003971, 0, 0]\n",
      "Theta =\n",
      " [[-0.20120206  0.        ]\n",
      " [-0.18768549  0.1049418 ]\n",
      " [-0.19002136  0.10936932]\n",
      " [-0.18999443  0.10986515]]\n",
      "v =  [0.03630817 0.03614431 0.03610061 0.03610059]\n"
     ]
    }
   ],
   "source": [
    "#Innovation_algorithm\n",
    "for i in range(1,5):\n",
    "    if i < len(acvf):\n",
    "        theta, v = innovations_algo(acvf[:i+1]) \n",
    "        #print(\"theta = \", theta[1:, :], \"v: \", v[-1])\n",
    "        #print()\n",
    "    else:\n",
    "        acvf.append(0)\n",
    "        theta, v = innovations_algo(acvf)\n",
    "        #print(\"theta = \", theta[1:, :], \"v: \", v[-1])\n",
    "        #print()\n",
    "print(\"acvf: \", acvf)\n",
    "print(\"Theta =\\n\", theta[1:, :])\n",
    "print(\"v = \", v[1:])\n"
   ]
  }
 ],
 "metadata": {
  "kernelspec": {
   "display_name": "Python 3",
   "language": "python",
   "name": "python3"
  },
  "language_info": {
   "codemirror_mode": {
    "name": "ipython",
    "version": 3
   },
   "file_extension": ".py",
   "mimetype": "text/x-python",
   "name": "python",
   "nbconvert_exporter": "python",
   "pygments_lexer": "ipython3",
   "version": "3.10.10"
  },
  "orig_nbformat": 4,
  "vscode": {
   "interpreter": {
    "hash": "067d1e07da3d3d6f96a9c661d3f9f126a682dc0ea3431ea2ad1f0ec48245ef88"
   }
  }
 },
 "nbformat": 4,
 "nbformat_minor": 2
}
